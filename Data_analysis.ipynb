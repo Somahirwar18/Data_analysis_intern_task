{
 "cells": [
  {
   "cell_type": "markdown",
   "id": "e0bbf6d0-59b6-44ae-85d4-5d4062454e0b",
   "metadata": {},
   "source": [
    "1. Descriptive Statistics"
   ]
  },
  {
   "cell_type": "code",
   "execution_count": 1,
   "id": "8b047a9a-150a-4fca-9a41-27a0ebb796ad",
   "metadata": {},
   "outputs": [
    {
     "name": "stdout",
     "output_type": "stream",
     "text": [
      "Overall Engagement Stats:\n",
      " count                 15\n",
      "unique                 5\n",
      "top       Strongly Agree\n",
      "freq                   4\n",
      "Name: Overall Engagement, dtype: object\n",
      "\n",
      "Job Satisfaction Stats:\n",
      " count           15\n",
      "unique           5\n",
      "top       Disagree\n",
      "freq             4\n",
      "Name: Job Satisfaction, dtype: object\n"
     ]
    }
   ],
   "source": [
    "import pandas as pd\n",
    "\n",
    "# Load the dataset\n",
    "data = pd.read_csv(r\"C:\\Users\\91999\\Downloads\\employee_experience_survey_data.csv\")\n",
    "\n",
    "# Calculate descriptive statistics for Overall Engagement and Job Satisfaction\n",
    "overall_engagement_stats = data['Overall Engagement'].describe()\n",
    "job_satisfaction_stats = data['Job Satisfaction'].describe()\n",
    "\n",
    "# Display the results\n",
    "print(\"Overall Engagement Stats:\\n\", overall_engagement_stats)\n",
    "print(\"\\nJob Satisfaction Stats:\\n\", job_satisfaction_stats)\n"
   ]
  },
  {
   "cell_type": "markdown",
   "id": "a508065b-f2b9-49a9-8eaf-3c35fcea7bfb",
   "metadata": {},
   "source": [
    "2. Identify Key Trends"
   ]
  },
  {
   "cell_type": "code",
   "execution_count": 4,
   "id": "404f5ed3-1b51-440b-af73-35a519d6321f",
   "metadata": {},
   "outputs": [
    {
     "name": "stdout",
     "output_type": "stream",
     "text": [
      "Average Job Satisfaction by Age Bracket:\n",
      " Age Bracket\n",
      "18-24    3.428571\n",
      "25-34    3.000000\n",
      "35-44    2.000000\n",
      "45-54    2.666667\n",
      "Name: Job Satisfaction Numeric, dtype: float64\n",
      "\n",
      "Average Job Satisfaction by Department:\n",
      " Department\n",
      "Consulting             3.000000\n",
      "Design                 5.000000\n",
      "Finance                4.000000\n",
      "HR                     4.000000\n",
      "IT                     1.000000\n",
      "Operations             2.000000\n",
      "Product Development    2.666667\n",
      "Sales                  2.750000\n",
      "Name: Job Satisfaction Numeric, dtype: float64\n"
     ]
    }
   ],
   "source": [
    "# Map the Likert scale to numeric values\n",
    "likert_scale = {\n",
    "    'Strongly Disagree': 1,\n",
    "    'Disagree': 2,\n",
    "    'Neutral': 3,\n",
    "    'Agree': 4,\n",
    "    'Strongly Agree': 5\n",
    "}\n",
    "\n",
    "# Apply the mapping to Job Satisfaction\n",
    "data['Job Satisfaction Numeric'] = data['Job Satisfaction'].map(likert_scale)\n",
    "\n",
    "# Now group by Age Bracket and Department, calculating the mean\n",
    "age_satisfaction = data.groupby('Age Bracket')['Job Satisfaction Numeric'].mean()\n",
    "department_satisfaction = data.groupby('Department')['Job Satisfaction Numeric'].mean()\n",
    "\n",
    "# Display the results\n",
    "print(\"Average Job Satisfaction by Age Bracket:\\n\", age_satisfaction)\n",
    "print(\"\\nAverage Job Satisfaction by Department:\\n\", department_satisfaction)\n"
   ]
  },
  {
   "cell_type": "markdown",
   "id": "a06434f1-cdc5-4636-9207-79f739446338",
   "metadata": {},
   "source": [
    "3. Inferential Statistics"
   ]
  },
  {
   "cell_type": "code",
   "execution_count": 6,
   "id": "4add35f5-fb5f-49f9-b647-20a8f7c08982",
   "metadata": {},
   "outputs": [
    {
     "name": "stdout",
     "output_type": "stream",
     "text": [
      "T-statistic: -1.7320508075688774\n",
      "P-value: 0.33333333333333326\n"
     ]
    }
   ],
   "source": [
    "from scipy.stats import ttest_ind\n",
    "\n",
    "# Map the Likert scale to numeric values\n",
    "likert_scale = {\n",
    "    'Strongly Disagree': 1,\n",
    "    'Disagree': 2,\n",
    "    'Neutral': 3,\n",
    "    'Agree': 4,\n",
    "    'Strongly Agree': 5\n",
    "}\n",
    "\n",
    "# Apply the mapping to Job Satisfaction for IT and HR departments\n",
    "data['Job Satisfaction Numeric'] = data['Job Satisfaction'].map(likert_scale)\n",
    "\n",
    "# Filter the numeric Job Satisfaction data for IT and HR\n",
    "it_satisfaction = data[data['Department'] == 'IT']['Job Satisfaction Numeric']\n",
    "hr_satisfaction = data[data['Department'] == 'HR']['Job Satisfaction Numeric']\n",
    "\n",
    "# Perform t-test\n",
    "t_stat, p_value = ttest_ind(it_satisfaction, hr_satisfaction, nan_policy='omit')\n",
    "\n",
    "# Display the results\n",
    "print(\"T-statistic:\", t_stat)\n",
    "print(\"P-value:\", p_value)\n"
   ]
  },
  {
   "cell_type": "code",
   "execution_count": 8,
   "id": "d41733bc-fd01-44e9-9bf2-6c3a190117b9",
   "metadata": {},
   "outputs": [
    {
     "name": "stdout",
     "output_type": "stream",
     "text": [
      "Correlation between Work-Life Balance and Overall Engagement: -0.36104082040916596\n"
     ]
    }
   ],
   "source": [
    "# Map the Likert scale to numeric values for both Work-Life Balance and Overall Engagement\n",
    "data['Work-Life Balance Numeric'] = data['Work-Life Balance'].map(likert_scale)\n",
    "data['Overall Engagement Numeric'] = data['Overall Engagement'].map(likert_scale)\n",
    "\n",
    "# Now calculate the correlation between the two numeric columns\n",
    "correlation = data['Work-Life Balance Numeric'].corr(data['Overall Engagement Numeric'])\n",
    "\n",
    "# Display the correlation result\n",
    "print(\"Correlation between Work-Life Balance and Overall Engagement:\", correlation)\n"
   ]
  },
  {
   "cell_type": "code",
   "execution_count": 9,
   "id": "4d6f4ced-1b65-40c9-80e2-6336332146dc",
   "metadata": {},
   "outputs": [
    {
     "name": "stdout",
     "output_type": "stream",
     "text": [
      "Correlation: -0.36104082040916596\n"
     ]
    }
   ],
   "source": [
    "work_life_balance_numeric = data['Work-Life Balance'].map(likert_scale)\n",
    "correlation = work_life_balance_numeric.corr(data['Overall Engagement Numeric'])\n",
    "print(\"Correlation:\", correlation)\n"
   ]
  },
  {
   "cell_type": "code",
   "execution_count": null,
   "id": "f2504c0e-ed61-4316-86d2-1e018c89950e",
   "metadata": {},
   "outputs": [],
   "source": []
  }
 ],
 "metadata": {
  "kernelspec": {
   "display_name": "Python 3 (ipykernel)",
   "language": "python",
   "name": "python3"
  },
  "language_info": {
   "codemirror_mode": {
    "name": "ipython",
    "version": 3
   },
   "file_extension": ".py",
   "mimetype": "text/x-python",
   "name": "python",
   "nbconvert_exporter": "python",
   "pygments_lexer": "ipython3",
   "version": "3.11.7"
  }
 },
 "nbformat": 4,
 "nbformat_minor": 5
}
